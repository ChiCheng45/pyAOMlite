{
 "cells": [
  {
   "cell_type": "code",
   "execution_count": null,
   "metadata": {},
   "outputs": [],
   "source": [
    "import os\n",
    "import json\n",
    "import sys\n",
    "sys.path.append(os.path.dirname(os.getcwd()))\n",
    "from src.pyAOM_utils import *\n",
    "import time"
   ]
  },
  {
   "cell_type": "code",
   "execution_count": null,
   "metadata": {},
   "outputs": [],
   "source": [
    "with open('dimers.json') as fp:\n",
    "    ref_data=json.load(fp)"
   ]
  },
  {
   "cell_type": "code",
   "execution_count": null,
   "metadata": {},
   "outputs": [],
   "source": [
    "# define STO parameters for AOM calculations\n",
    "AOM_dict={\n",
    "    'H':{'STOs':1  ,'1s':1.0000},\n",
    "    'C':{'STOs':1+3,'2s':1.6083,'2p':1.385600},\n",
    "    'N':{'STOs':1+3,'2s':1.9237,'2p':1.617102},\n",
    "    'O':{'STOs':1+3,'2s':2.2458,'2p':1.505135},\n",
    "    'F':{'STOs':1+3,'2s':2.5638,'2p':1.665190},\n",
    "    'S':{'STOs':1+3,'3s':2.1223,'3p':1.641119},\n",
    "}"
   ]
  },
  {
   "cell_type": "code",
   "execution_count": null,
   "metadata": {},
   "outputs": [],
   "source": [
    "# subset test\n",
    "_=overlap_reg_test(ref_data,AOM_dict,target=['84a','n11'])"
   ]
  },
  {
   "cell_type": "code",
   "execution_count": null,
   "metadata": {},
   "outputs": [],
   "source": [
    "# HAB79 regression test\n",
    "test_data=overlap_reg_test(ref_data,AOM_dict)"
   ]
  }
 ],
 "metadata": {
  "kernelspec": {
   "display_name": "Python 3",
   "language": "python",
   "name": "python3"
  },
  "language_info": {
   "codemirror_mode": {
    "name": "ipython",
    "version": 3
   },
   "file_extension": ".py",
   "mimetype": "text/x-python",
   "name": "python",
   "nbconvert_exporter": "python",
   "pygments_lexer": "ipython3",
   "version": "3.7.5"
  }
 },
 "nbformat": 4,
 "nbformat_minor": 4
}
