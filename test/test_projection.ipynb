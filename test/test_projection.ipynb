{
 "cells": [
  {
   "cell_type": "code",
   "execution_count": null,
   "metadata": {},
   "outputs": [],
   "source": [
    "import os\n",
    "import json\n",
    "import sys\n",
    "sys.path.append(os.path.dirname(os.getcwd()))\n",
    "from src.pyAOM_utils import *"
   ]
  },
  {
   "cell_type": "code",
   "execution_count": null,
   "metadata": {},
   "outputs": [],
   "source": [
    "with open('single_molecules.json') as fp:\n",
    "    ref_data=json.load(fp)"
   ]
  },
  {
   "cell_type": "code",
   "execution_count": null,
   "metadata": {},
   "outputs": [],
   "source": [
    "# STO parameters for GTO-STO projection step\n",
    "STO_proj_dict={\n",
    "    'H':{'STOs':1  ,'1s':1.0000},\n",
    "    'C':{'STOs':1+3,'2s':1.6083,'2p':1.442657},\n",
    "    'N':{'STOs':1+3,'2s':1.9237,'2p':1.646703},\n",
    "    'O':{'STOs':1+3,'2s':2.2458,'2p':1.858823},\n",
    "    'F':{'STOs':1+3,'2s':2.5638,'2p':2.136394},\n",
    "    'S':{'STOs':1+3,'3s':2.1223,'3p':1.651749},\n",
    "}"
   ]
  },
  {
   "cell_type": "code",
   "execution_count": null,
   "metadata": {},
   "outputs": [],
   "source": [
    "test_data=projection_reg_test(ref_data,STO_proj_dict)"
   ]
  },
  {
   "cell_type": "code",
   "execution_count": null,
   "metadata": {},
   "outputs": [],
   "source": [
    "import matplotlib.pyplot as plt\n",
    "import seaborn as sns\n",
    "sns.set(color_codes=True)\n",
    "sns.set_context(\"talk\")\n",
    "t=[]\n",
    "STOs=[]\n",
    "for key,value in test_data.items():\n",
    "    t.append(value['test_time'])\n",
    "    STOs.append(len(value['test']['S_matrix'][0]))\n",
    "plt.plot(t,STOs,'.')\n",
    "plt.xlabel('Projection execution time (s)')\n",
    "plt.ylabel('Number of STOs');"
   ]
  }
 ],
 "metadata": {
  "kernelspec": {
   "display_name": "Python 3",
   "language": "python",
   "name": "python3"
  },
  "language_info": {
   "codemirror_mode": {
    "name": "ipython",
    "version": 3
   },
   "file_extension": ".py",
   "mimetype": "text/x-python",
   "name": "python",
   "nbconvert_exporter": "python",
   "pygments_lexer": "ipython3",
   "version": "3.7.5"
  }
 },
 "nbformat": 4,
 "nbformat_minor": 4
}
